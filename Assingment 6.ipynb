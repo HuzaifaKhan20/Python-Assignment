{
 "cells": [
  {
   "cell_type": "code",
   "execution_count": 3,
   "metadata": {},
   "outputs": [],
   "source": [
    "class Car():\n",
    "    def __init__(self, name,colour,year,company,miles):\n",
    "        self.name = name\n",
    "        self.colour=colour\n",
    "        self.year = year\n",
    "        self.company = company\n",
    "        self.miles = miles\n",
    "    def description(self):\n",
    "        full_name= (\"The name of car is {} {} {}\".format(self.company, self.name, self.year))\n",
    "        return full_name\n",
    "    def color(self):\n",
    "        print (\"The colour of the car is {}\".format(self.colour))\n",
    "    def read_odometer(self):\n",
    "        print (\"The car has run  {} miles\".format(self.miles))\n",
    "\n",
    "Car = Car('Corolla','Black',2019,'Toyota',1600)\n",
    "\n",
    "\n",
    "\n",
    "    "
   ]
  },
  {
   "cell_type": "code",
   "execution_count": 4,
   "metadata": {},
   "outputs": [
    {
     "data": {
      "text/plain": [
       "'The name of car is Toyota Corolla 2019'"
      ]
     },
     "execution_count": 4,
     "metadata": {},
     "output_type": "execute_result"
    }
   ],
   "source": [
    "Car.description()"
   ]
  },
  {
   "cell_type": "code",
   "execution_count": 5,
   "metadata": {},
   "outputs": [
    {
     "name": "stdout",
     "output_type": "stream",
     "text": [
      "The colour of the car is Black\n"
     ]
    }
   ],
   "source": [
    "Car.color()"
   ]
  },
  {
   "cell_type": "code",
   "execution_count": 7,
   "metadata": {},
   "outputs": [
    {
     "name": "stdout",
     "output_type": "stream",
     "text": [
      "The car has run  1600 miles\n"
     ]
    }
   ],
   "source": [
    "Car.read_odometer()"
   ]
  },
  {
   "cell_type": "code",
   "execution_count": null,
   "metadata": {},
   "outputs": [],
   "source": []
  }
 ],
 "metadata": {
  "kernelspec": {
   "display_name": "Python 3",
   "language": "python",
   "name": "python3"
  },
  "language_info": {
   "codemirror_mode": {
    "name": "ipython",
    "version": 3
   },
   "file_extension": ".py",
   "mimetype": "text/x-python",
   "name": "python",
   "nbconvert_exporter": "python",
   "pygments_lexer": "ipython3",
   "version": "3.7.4"
  }
 },
 "nbformat": 4,
 "nbformat_minor": 2
}
