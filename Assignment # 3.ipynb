{
 "cells": [
  {
   "cell_type": "code",
   "execution_count": 3,
   "metadata": {},
   "outputs": [
    {
     "name": "stdout",
     "output_type": "stream",
     "text": [
      "Enter First Number : 2\n",
      "Enter Second Number : 2\n",
      "Enter Operator-\n",
      "0 answer\n"
     ]
    }
   ],
   "source": [
    "#Question no 1:Calculator\n",
    "\n",
    "num1=int(input(\"Enter First Number : \"))\n",
    "num2=int(input(\"Enter Second Number : \"))\n",
    "operator=input(\"Enter Operator\")\n",
    "\n",
    "if operator == '+':\n",
    "        num = num1 + num2\n",
    "        print(num,'answer')\n",
    "elif operator == '-':\n",
    "        num = num1 - num2\n",
    "        print(num,'answer')\n",
    "elif operator == '*':\n",
    "        num = num1 * num2\n",
    "        print(num,'answer')\n",
    "elif operator == '/':\n",
    "        num = num1 / num2\n",
    "        print(num,'answer')\n",
    "elif operator == '**':\n",
    "        num = num1 ** num2\n",
    "        print(num,'answer')\n",
    "else:\n",
    "        print(\"Enter Correct Operator\")    "
   ]
  },
  {
   "cell_type": "code",
   "execution_count": 21,
   "metadata": {},
   "outputs": [
    {
     "name": "stdout",
     "output_type": "stream",
     "text": [
      "Numeric Values =  4\n"
     ]
    }
   ],
   "source": [
    "#To check numeric value in list \n",
    "list1 = {'a': 'Khan', 'b':'Xain', 'c':4}\n",
    "def Numeric(dict1): \n",
    "      \n",
    "     numeric = 0\n",
    "     for i in list1.values(): \n",
    "           numeric =  i \n",
    "       \n",
    "     return numeric\n",
    "  \n",
    "\n",
    " \n",
    "print(\"Numeric Values = \", Numeric(dict1))"
   ]
  },
  {
   "cell_type": "code",
   "execution_count": 9,
   "metadata": {},
   "outputs": [
    {
     "name": "stdout",
     "output_type": "stream",
     "text": [
      "{'First Name': 'Xain', 'Last Name': 'Khan', 'Address': '20 Bani Gala St.', 'Father Name': 'M.Akram Khan'}\n"
     ]
    }
   ],
   "source": [
    "#Python script to add a key to a dictionary \n",
    "Dict1={\n",
    "    \"First Name\" : \"Xain\",\n",
    "    \"Last Name\" : \"Khan\",\n",
    "    \"Address\" : \"20 Bani Gala St.\"\n",
    "}\n",
    "Dict1[\"Father Name\"]=\"M.Akram Khan\"\n",
    "print(Dict1)"
   ]
  },
  {
   "cell_type": "code",
   "execution_count": 16,
   "metadata": {},
   "outputs": [
    {
     "name": "stdout",
     "output_type": "stream",
     "text": [
      "Sum : 9\n"
     ]
    }
   ],
   "source": [
    "# program to sum all the numeric items in a dictionary\n",
    "dict1 = {'a': 2, 'b':3, 'c':4}\n",
    "def Sum(dict1): \n",
    "      \n",
    "     sum = 0\n",
    "     for i in dict1.values(): \n",
    "           sum = sum + i \n",
    "       \n",
    "     return sum\n",
    "  \n",
    "\n",
    " \n",
    "print(\"Sum :\", Sum(dict1))"
   ]
  },
  {
   "cell_type": "code",
   "execution_count": 25,
   "metadata": {},
   "outputs": [
    {
     "name": "stdout",
     "output_type": "stream",
     "text": [
      "15\n",
      "20\n",
      "30\n",
      "40\n",
      "50\n"
     ]
    }
   ],
   "source": [
    "# program to identify duplicate values from list \n",
    "list2 = [2,30,20,30,40,50,15,11,20,40,50,15]\n",
    "list2.sort()\n",
    "for i in range (len (list2) -1):\n",
    "     if list2[i] == list2[i+1]:\n",
    "        print (list2[i])"
   ]
  },
  {
   "cell_type": "code",
   "execution_count": 27,
   "metadata": {},
   "outputs": [
    {
     "name": "stdout",
     "output_type": "stream",
     "text": [
      "Present,  value = 2\n",
      "Not present\n"
     ]
    }
   ],
   "source": [
    "# Python script to check if a given key already exists in a dictionary \n",
    "def checkKey(dict, key): \n",
    "      \n",
    "    if key in dict.keys(): \n",
    "        print(\"Present, \", end =\" \") \n",
    "        print(\"value =\", dict[key]) \n",
    "    else: \n",
    "        print(\"Not present\") \n",
    "  \n",
    "# Driver Code \n",
    "dict = {'a': 10, 'b':2, 'c':30} \n",
    "  \n",
    "key = 'b'\n",
    "checkKey(dict, key) \n",
    "  \n",
    "key = 'w'\n",
    "checkKey(dict, key) "
   ]
  },
  {
   "cell_type": "code",
   "execution_count": null,
   "metadata": {},
   "outputs": [],
   "source": []
  }
 ],
 "metadata": {
  "kernelspec": {
   "display_name": "Python 3",
   "language": "python",
   "name": "python3"
  },
  "language_info": {
   "codemirror_mode": {
    "name": "ipython",
    "version": 3
   },
   "file_extension": ".py",
   "mimetype": "text/x-python",
   "name": "python",
   "nbconvert_exporter": "python",
   "pygments_lexer": "ipython3",
   "version": "3.7.4"
  }
 },
 "nbformat": 4,
 "nbformat_minor": 2
}
