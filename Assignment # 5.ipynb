{
 "cells": [
  {
   "cell_type": "code",
   "execution_count": 1,
   "metadata": {},
   "outputs": [
    {
     "name": "stdout",
     "output_type": "stream",
     "text": [
      "Enter your number 4\n",
      "\n",
      "-> The factorial is 24\n"
     ]
    }
   ],
   "source": [
    "# Question:1 Write a Python function to calculate the factorial of a number (a non-negative integer).\n",
    "#The function accepts the number as an argument. \n",
    "\n",
    "def factor(num):\n",
    "    if num >= 0:\n",
    "        factorial = 1\n",
    "        for i in range(1,num + 1):\n",
    "            factorial *= i\n",
    "        print(\"\\n-> The factorial is {}\".format(factorial))\n",
    "    else:\n",
    "        print(\"Please enter valid number\")\n",
    "\n",
    "        \n",
    "num = int(input(\"Enter your number \"))\n",
    "factor(num)\n"
   ]
  },
  {
   "cell_type": "code",
   "execution_count": 2,
   "metadata": {},
   "outputs": [
    {
     "name": "stdout",
     "output_type": "stream",
     "text": [
      "Enter String : My name is Xain Khan\n",
      "\n",
      "-> Number of upper case letters = 3\n",
      "\n",
      "-> Number of lower case letters = 13\n"
     ]
    }
   ],
   "source": [
    "#Question:2 Write a Python function that accepts a string and calculate the number of upper case letters and lower case letters.\n",
    "def CaseCount(string):\n",
    "    upper=0\n",
    "    lower=0\n",
    "    for i in string:\n",
    "        if i>=\"A\" and i<=\"Z\":\n",
    "            upper +=1\n",
    "        elif i>=\"a\" and i<=\"z\":\n",
    "            lower +=1\n",
    "    print(\"\\n-> Number of upper case letters = {}\".format(upper))\n",
    "    print(\"\\n-> Number of lower case letters = {}\".format(lower))\n",
    "\n",
    "string = input(\"Enter String : \")\n",
    "CaseCount(string)"
   ]
  },
  {
   "cell_type": "code",
   "execution_count": 3,
   "metadata": {},
   "outputs": [
    {
     "name": "stdout",
     "output_type": "stream",
     "text": [
      "Enter number of element(s) you want to enter : 3\n",
      "Enter element : 4\n",
      "Enter element : 5\n",
      "Enter element : 6\n",
      "\n",
      "The even number =  4.\n",
      "The even number =  6."
     ]
    }
   ],
   "source": [
    "#Question:3 Write a Python function to print the even numbers from a given list. \n",
    "\n",
    "List = []\n",
    "No_of_elements = int(input(\"Enter number of element(s) you want to enter : \"))\n",
    "for i in range(0, No_of_elements):\n",
    "    num= int(input(\"Enter element : \"))\n",
    "    List.append(num)\n",
    "    \n",
    "def EvenNum(List):\n",
    "    for num in List:\n",
    "        if num % 2==0:  \n",
    "            print(\"\\nThe even number = \",num, end =\".\")\n",
    "EvenNum(List)"
   ]
  },
  {
   "cell_type": "code",
   "execution_count": 7,
   "metadata": {},
   "outputs": [
    {
     "name": "stdout",
     "output_type": "stream",
     "text": [
      "Enter word to check is it Palindrome: radar\n",
      "The string is a palindrome\n"
     ]
    }
   ],
   "source": [
    "#Question:4 Write a Python function that checks whether a passed string is palindrome or not.\n",
    "#Note: A palindrome is a word, phrase, or sequence that reads the same backward as forward, e.g., madam \n",
    "\n",
    "\n",
    "def CheckPalindrome(string):\n",
    "    if(string==string[::-1]):\n",
    "        print(\"The string is a palindrome\")\n",
    "    else:\n",
    "        print(\"Not a palindrome\")\n",
    "string= input(\"Enter word to check is it Palindrome: \")\n",
    "CheckPalindrome(string)"
   ]
  },
  {
   "cell_type": "code",
   "execution_count": 5,
   "metadata": {},
   "outputs": [
    {
     "name": "stdout",
     "output_type": "stream",
     "text": [
      "Enter any number: 11\n",
      "11 is a prime number.\n"
     ]
    }
   ],
   "source": [
    "#Question:5 Write a Python function that takes a number as a parameter and check the number is prime or not.\n",
    "\n",
    "def isPositiveInt(number):\n",
    "    try:\n",
    "        number = int(number)\n",
    "        return True\n",
    "    except:\n",
    "        return False\n",
    "\n",
    "def Prime(number):\n",
    "    isPrime = isPositiveInt(number)\n",
    "    if isPrime:\n",
    "        number = int(number)\n",
    "        for i in range(2, number):\n",
    "            if (number % i == 0):\n",
    "                print(number,\"is not a prime Number\")\n",
    "                break\n",
    "        else:\n",
    "            print(\"{} is a prime number.\".format(number))\n",
    "    else:\n",
    "        print(\"Enter positive integers only\")\n",
    "number = input(\"Enter any number: \")\n",
    "Prime(number)\n"
   ]
  },
  {
   "cell_type": "code",
   "execution_count": 6,
   "metadata": {},
   "outputs": [
    {
     "name": "stdout",
     "output_type": "stream",
     "text": [
      "Enter Shopping item (Or enter EXIT to end): Bag\n",
      "Enter Shopping item (Or enter EXIT to end): Dress\n",
      "Enter Shopping item (Or enter EXIT to end): Suit\n",
      "Enter Shopping item (Or enter EXIT to end): EXIT\n",
      "\n",
      "-> You purchased: Bag\n",
      "\n",
      "-> You purchased: Dress\n",
      "\n",
      "-> You purchased: Suit\n"
     ]
    }
   ],
   "source": [
    "#Question: 6 Suppose a customer is shopping in a market and you need to print all the items which user bought from market.\n",
    "#Write a function which accepts the multiple arguments of user shopping list and print all the items which user bought from\n",
    "#market. (Hint: Arbitrary Argument concept can make this task ease) -\n",
    "\n",
    "def UserShoppingList(*items):\n",
    "    shoppingItems = []\n",
    "    while True:\n",
    "        item = input(\"Enter Shopping item (Or enter EXIT to end): \")\n",
    "        if item != 'EXIT':\n",
    "            shoppingItems.append(item)\n",
    "        else:\n",
    "            break\n",
    "    for item in range(len(shoppingItems)):\n",
    "        print(\"\\n-> You purchased: {}\".format(shoppingItems[item]))\n",
    "UserShoppingList()\n"
   ]
  },
  {
   "cell_type": "code",
   "execution_count": null,
   "metadata": {},
   "outputs": [],
   "source": []
  }
 ],
 "metadata": {
  "kernelspec": {
   "display_name": "Python 3",
   "language": "python",
   "name": "python3"
  },
  "language_info": {
   "codemirror_mode": {
    "name": "ipython",
    "version": 3
   },
   "file_extension": ".py",
   "mimetype": "text/x-python",
   "name": "python",
   "nbconvert_exporter": "python",
   "pygments_lexer": "ipython3",
   "version": "3.7.4"
  }
 },
 "nbformat": 4,
 "nbformat_minor": 2
}
