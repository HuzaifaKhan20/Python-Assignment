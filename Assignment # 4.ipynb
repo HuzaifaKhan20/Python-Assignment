{
 "cells": [
  {
   "cell_type": "code",
   "execution_count": 140,
   "metadata": {},
   "outputs": [
    {
     "name": "stdout",
     "output_type": "stream",
     "text": [
      "{'first_name': 'Xain', 'last_name': 'Khan', 'age': 18, 'city': 'Karachi'}\n"
     ]
    }
   ],
   "source": [
    "#Question # 1 : Use a dictionary to store information about a person you know. \n",
    "\n",
    "dictionary_1={\n",
    "    \"first_name\":\"Xain\",\n",
    "    \"last_name\":\"Khan\",\n",
    "    \"age\":18,\n",
    "    \"city\":\"Karachi\"\n",
    "}\n",
    "print(dictionary_1)"
   ]
  },
  {
   "cell_type": "code",
   "execution_count": 4,
   "metadata": {},
   "outputs": [
    {
     "name": "stdout",
     "output_type": "stream",
     "text": [
      "{'first_name': 'Xain', 'last_name': 'Khan', 'age': 18, 'city': 'Karachi', 'qualification': 'Intermediate'}\n"
     ]
    }
   ],
   "source": [
    "#Add a new key value pair about qualification\n",
    "dictionary_1[\"qualification\"]=\"Intermediate\"\n",
    "print(dictionary_1)"
   ]
  },
  {
   "cell_type": "code",
   "execution_count": 5,
   "metadata": {},
   "outputs": [
    {
     "name": "stdout",
     "output_type": "stream",
     "text": [
      "{'first_name': 'Xain', 'last_name': 'Khan', 'age': 18, 'city': 'Karachi', 'qualification': 'Ph.d'}\n"
     ]
    }
   ],
   "source": [
    "#update the qualification value to high academic level \n",
    "dictionary_1[\"qualification\"]=\"Ph.d\"\n",
    "print(dictionary_1)"
   ]
  },
  {
   "cell_type": "code",
   "execution_count": 6,
   "metadata": {},
   "outputs": [
    {
     "name": "stdout",
     "output_type": "stream",
     "text": [
      "{'first_name': 'Xain', 'last_name': 'Khan', 'age': 18, 'city': 'Karachi'}\n"
     ]
    }
   ],
   "source": [
    "#delete it\n",
    "del dictionary_1[\"qualification\"]\n",
    "print(dictionary_1)"
   ]
  },
  {
   "cell_type": "code",
   "execution_count": 166,
   "metadata": {},
   "outputs": [
    {
     "name": "stdout",
     "output_type": "stream",
     "text": [
      "\n",
      "1)  Karachi is in Country of origin Pakistan.\n",
      "\n",
      "    It has a population of about Population : 22 Million.\n",
      "\n",
      "    The Karachi is the Backbone of Pakistan's economy.\n",
      "\n",
      "2)  Washington is in Country of origin USA.\n",
      "\n",
      "    It has a population of about Population : 22 Billion.\n",
      "\n",
      "    The Washington is the Capital of USA.\n",
      "\n",
      "3)  Mumbai is in Country of origin India.\n",
      "\n",
      "    It has a population of about Population : 1.5 Billion.\n",
      "\n",
      "    The Mumbai is the Home of bollywood stars.\n"
     ]
    }
   ],
   "source": [
    "#Question # 2 : Make a dictionary called cities\n",
    "\n",
    "cities = {\n",
    "   \n",
    "\"Karachi\": {\n",
    "    \"S no.\":1,\n",
    "    \"country\":\"Country of origin Pakistan\",\n",
    "    \"population\":\"Population : 22 Million\",\n",
    "    \"fact\":\"Backbone of Pakistan's economy\",\n",
    "    \n",
    "    },\n",
    "    \n",
    "\"Washington\": {\n",
    "    \"S no.\":2,\n",
    "    \"country\":\"Country of origin USA\",\n",
    "    \"population\":\"Population : 22 Billion\",\n",
    "    \"fact\":\"Capital of USA\",\n",
    "    \n",
    "    },\n",
    "\n",
    "\"Mumbai\": {\n",
    "    \"S no.\":3,\n",
    "    \"country\":\"Country of origin India\",\n",
    "    \"population\":\"Population : 1.5 Billion\",\n",
    "    \"fact\":\"Home of bollywood stars\",\n",
    "    \n",
    "    },\n",
    "}\n",
    "\n",
    "for city, info in cities.items():\n",
    "    serial = info[\"S no.\"]\n",
    "    country = info[\"country\"]\n",
    "    population = info[\"population\"]\n",
    "    fact = info[\"fact\"]\n",
    "    \n",
    "    print(\"\\n\"+str(serial)+\")\"+\" \"+\" \"+city+\" is in \"+country+\".\")\n",
    "    print(\"\\n\"+\"    \"+\"It has a population of about \"+str(population)+\".\")\n",
    "    print(\"\\n\"+\"    \"+\"The \"+city+\" is the \"+fact+\".\")\n"
   ]
  },
  {
   "cell_type": "code",
   "execution_count": 1,
   "metadata": {},
   "outputs": [
    {
     "name": "stdout",
     "output_type": "stream",
     "text": [
      " How old are you?\n",
      "Enter 'quit' when you are finished. 5\n",
      "Ticket cost is 10$\n",
      " How old are you?\n",
      "Enter 'quit' when you are finished. quit\n"
     ]
    }
   ],
   "source": [
    "prompt = \" How old are you?\"\n",
    "prompt += \"\\nEnter 'quit' when you are finished. \"\n",
    "\n",
    "while True:\n",
    "    age = input(prompt)\n",
    "    if age == \"quit\":\n",
    "        break\n",
    "    age = int(age)\n",
    "    \n",
    "    if age < 3:\n",
    "        print(\"Tickets are free for you\")\n",
    "    elif age < 13:\n",
    "        print(\"Ticket cost is 10$\")\n",
    "    else:\n",
    "        print(\"Ticket cost is 15$\")"
   ]
  },
  {
   "cell_type": "code",
   "execution_count": 1,
   "metadata": {},
   "outputs": [
    {
     "name": "stdout",
     "output_type": "stream",
     "text": [
      "A brief history of time is one of my favorite books.\n"
     ]
    }
   ],
   "source": [
    "#Question # 4\n",
    "def favorite_book(title):\n",
    "    print(title+\" is one of my favorite books.\")\n",
    "\n",
    "favorite_book(\"A brief history of time\")"
   ]
  },
  {
   "cell_type": "code",
   "execution_count": 2,
   "metadata": {},
   "outputs": [
    {
     "name": "stdout",
     "output_type": "stream",
     "text": [
      "*****HINT*****\n",
      "try a number between 1 and 10\n",
      "Enter your guess: 2\n",
      "Your guess is wrong\n",
      "*****Better luck next time*****\n",
      "Enter your guess: 15\n",
      "Your guess is wrong\n",
      "*****Better luck next time*****\n",
      "Enter your guess: 25\n",
      "Your guess is wrong\n",
      "*****Better luck next time*****\n"
     ]
    }
   ],
   "source": [
    "#Question # 5\n",
    "import random\n",
    "random=random.randint(1,30)\n",
    "print(\"*****HINT*****\")\n",
    "if random>= 1 and random < 10:\n",
    "    print(\"try a number between 1 and 10\")\n",
    "elif random>= 10 and random < 20:\n",
    "    print(\"try a number between 10 and 20\")\n",
    "elif random>= 20 and random < 30:\n",
    "    print(\"try a number between 20 and 30\")\n",
    "for i in range(0,3):\n",
    "    user = int(input(\"Enter your guess: \"))\n",
    "    if user < 1 or user > 30:\n",
    "        print(\"Choose a number between 1 and 30\")\n",
    "    else:\n",
    "        if user == random:\n",
    "            print(\"Your guess is right\")\n",
    "            break\n",
    "        else:\n",
    "            print(\"Your guess is wrong\")\n",
    "            print(\"*****Better luck next time*****\")"
   ]
  },
  {
   "cell_type": "code",
   "execution_count": null,
   "metadata": {},
   "outputs": [],
   "source": []
  }
 ],
 "metadata": {
  "kernelspec": {
   "display_name": "Python 3",
   "language": "python",
   "name": "python3"
  },
  "language_info": {
   "codemirror_mode": {
    "name": "ipython",
    "version": 3
   },
   "file_extension": ".py",
   "mimetype": "text/x-python",
   "name": "python",
   "nbconvert_exporter": "python",
   "pygments_lexer": "ipython3",
   "version": "3.7.4"
  }
 },
 "nbformat": 4,
 "nbformat_minor": 2
}
